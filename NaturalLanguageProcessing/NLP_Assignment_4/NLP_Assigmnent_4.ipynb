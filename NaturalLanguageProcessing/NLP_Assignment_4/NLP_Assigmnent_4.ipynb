{
 "cells": [
  {
   "cell_type": "markdown",
   "metadata": {},
   "source": [
    "# NLP 6iCa -  Assignment 4\n",
    "## Author: Benjamin Brodwolf\n",
    "### Date: 08.06.2020"
   ]
  },
  {
   "cell_type": "markdown",
   "metadata": {
    "ExecuteTime": {
     "end_time": "2020-06-07T15:10:24.876839Z",
     "start_time": "2020-06-07T15:10:24.630792Z"
    }
   },
   "source": [
    "__________________________________________________________________________________________________________________________"
   ]
  },
  {
   "cell_type": "markdown",
   "metadata": {},
   "source": [
    "## HINWEIS: Word2Vec-File wird benötigt\n",
    "Benutze das vortraintierten Embedding von Glove: [Glove-6B-300D](https://nlp.stanford.edu/projects/glove/) \n",
    "\n",
    "Kann hier herundergeladen werden: [KLICKE HIER](http://nlp.stanford.edu/data/glove.6B.zip)"
   ]
  },
  {
   "cell_type": "code",
   "execution_count": 1,
   "metadata": {
    "ExecuteTime": {
     "end_time": "2020-06-08T20:00:47.944105Z",
     "start_time": "2020-06-08T20:00:47.941104Z"
    }
   },
   "outputs": [],
   "source": [
    "# Übergebe hier den Pfad zur \"glove.6B.300d.txt\"-Datei\n",
    "\n",
    "path_to_word2vec = \"glove.6B.300d.txt\""
   ]
  },
  {
   "cell_type": "code",
   "execution_count": 2,
   "metadata": {
    "ExecuteTime": {
     "end_time": "2020-06-08T20:00:52.915684Z",
     "start_time": "2020-06-08T20:00:47.945105Z"
    }
   },
   "outputs": [],
   "source": [
    "import pandas as pd\n",
    "import numpy as np\n",
    "\n",
    "import re\n",
    "import nltk\n",
    "from nltk.corpus import stopwords\n",
    "from nltk.tokenize import word_tokenize\n",
    "\n",
    "import gensim\n",
    "from gensim.models.word2vec import Word2Vec\n",
    "from gensim.scripts.glove2word2vec import glove2word2vec\n",
    "\n",
    "import matplotlib.pyplot as plt\n",
    "\n",
    "%matplotlib inline\n",
    "%config InlineBackend.figure_format = \"retina\""
   ]
  },
  {
   "cell_type": "code",
   "execution_count": 3,
   "metadata": {
    "ExecuteTime": {
     "end_time": "2020-06-08T20:00:53.643847Z",
     "start_time": "2020-06-08T20:00:52.917685Z"
    }
   },
   "outputs": [
    {
     "name": "stdout",
     "output_type": "stream",
     "text": [
      "(250000, 7)\n"
     ]
    },
    {
     "data": {
      "text/html": [
       "<div>\n",
       "<style scoped>\n",
       "    .dataframe tbody tr th:only-of-type {\n",
       "        vertical-align: middle;\n",
       "    }\n",
       "\n",
       "    .dataframe tbody tr th {\n",
       "        vertical-align: top;\n",
       "    }\n",
       "\n",
       "    .dataframe thead th {\n",
       "        text-align: right;\n",
       "    }\n",
       "</style>\n",
       "<table border=\"1\" class=\"dataframe\">\n",
       "  <thead>\n",
       "    <tr style=\"text-align: right;\">\n",
       "      <th></th>\n",
       "      <th>Unnamed: 0</th>\n",
       "      <th>id</th>\n",
       "      <th>qid1</th>\n",
       "      <th>qid2</th>\n",
       "      <th>question1</th>\n",
       "      <th>question2</th>\n",
       "      <th>is_duplicate</th>\n",
       "    </tr>\n",
       "  </thead>\n",
       "  <tbody>\n",
       "    <tr>\n",
       "      <th>0</th>\n",
       "      <td>0</td>\n",
       "      <td>0</td>\n",
       "      <td>1</td>\n",
       "      <td>2</td>\n",
       "      <td>What is the step by step guide to invest in sh...</td>\n",
       "      <td>What is the step by step guide to invest in sh...</td>\n",
       "      <td>0</td>\n",
       "    </tr>\n",
       "    <tr>\n",
       "      <th>1</th>\n",
       "      <td>1</td>\n",
       "      <td>1</td>\n",
       "      <td>3</td>\n",
       "      <td>4</td>\n",
       "      <td>What is the story of Kohinoor (Koh-i-Noor) Dia...</td>\n",
       "      <td>What would happen if the Indian government sto...</td>\n",
       "      <td>0</td>\n",
       "    </tr>\n",
       "    <tr>\n",
       "      <th>2</th>\n",
       "      <td>2</td>\n",
       "      <td>2</td>\n",
       "      <td>5</td>\n",
       "      <td>6</td>\n",
       "      <td>How can I increase the speed of my internet co...</td>\n",
       "      <td>How can Internet speed be increased by hacking...</td>\n",
       "      <td>0</td>\n",
       "    </tr>\n",
       "    <tr>\n",
       "      <th>3</th>\n",
       "      <td>3</td>\n",
       "      <td>3</td>\n",
       "      <td>7</td>\n",
       "      <td>8</td>\n",
       "      <td>Why am I mentally very lonely? How can I solve...</td>\n",
       "      <td>Find the remainder when [math]23^{24}[/math] i...</td>\n",
       "      <td>0</td>\n",
       "    </tr>\n",
       "    <tr>\n",
       "      <th>4</th>\n",
       "      <td>4</td>\n",
       "      <td>4</td>\n",
       "      <td>9</td>\n",
       "      <td>10</td>\n",
       "      <td>Which one dissolve in water quikly sugar, salt...</td>\n",
       "      <td>Which fish would survive in salt water?</td>\n",
       "      <td>0</td>\n",
       "    </tr>\n",
       "  </tbody>\n",
       "</table>\n",
       "</div>"
      ],
      "text/plain": [
       "   Unnamed: 0  id  qid1  qid2  \\\n",
       "0           0   0     1     2   \n",
       "1           1   1     3     4   \n",
       "2           2   2     5     6   \n",
       "3           3   3     7     8   \n",
       "4           4   4     9    10   \n",
       "\n",
       "                                           question1  \\\n",
       "0  What is the step by step guide to invest in sh...   \n",
       "1  What is the story of Kohinoor (Koh-i-Noor) Dia...   \n",
       "2  How can I increase the speed of my internet co...   \n",
       "3  Why am I mentally very lonely? How can I solve...   \n",
       "4  Which one dissolve in water quikly sugar, salt...   \n",
       "\n",
       "                                           question2  is_duplicate  \n",
       "0  What is the step by step guide to invest in sh...             0  \n",
       "1  What would happen if the Indian government sto...             0  \n",
       "2  How can Internet speed be increased by hacking...             0  \n",
       "3  Find the remainder when [math]23^{24}[/math] i...             0  \n",
       "4            Which fish would survive in salt water?             0  "
      ]
     },
     "execution_count": 3,
     "metadata": {},
     "output_type": "execute_result"
    }
   ],
   "source": [
    "df_train = pd.read_csv(\"Questions_train.csv\")\n",
    "df_eval  = pd.read_csv(\"Questions_eval.csv\")\n",
    "print(df_train.shape)\n",
    "df_train.head()"
   ]
  },
  {
   "cell_type": "code",
   "execution_count": 4,
   "metadata": {
    "ExecuteTime": {
     "end_time": "2020-06-08T20:00:53.658851Z",
     "start_time": "2020-06-08T20:00:53.644848Z"
    }
   },
   "outputs": [
    {
     "name": "stdout",
     "output_type": "stream",
     "text": [
      "(75000, 7)\n"
     ]
    },
    {
     "data": {
      "text/html": [
       "<div>\n",
       "<style scoped>\n",
       "    .dataframe tbody tr th:only-of-type {\n",
       "        vertical-align: middle;\n",
       "    }\n",
       "\n",
       "    .dataframe tbody tr th {\n",
       "        vertical-align: top;\n",
       "    }\n",
       "\n",
       "    .dataframe thead th {\n",
       "        text-align: right;\n",
       "    }\n",
       "</style>\n",
       "<table border=\"1\" class=\"dataframe\">\n",
       "  <thead>\n",
       "    <tr style=\"text-align: right;\">\n",
       "      <th></th>\n",
       "      <th>Unnamed: 0</th>\n",
       "      <th>id</th>\n",
       "      <th>qid1</th>\n",
       "      <th>qid2</th>\n",
       "      <th>question1</th>\n",
       "      <th>question2</th>\n",
       "      <th>is_duplicate</th>\n",
       "    </tr>\n",
       "  </thead>\n",
       "  <tbody>\n",
       "    <tr>\n",
       "      <th>0</th>\n",
       "      <td>250000</td>\n",
       "      <td>250000</td>\n",
       "      <td>492216</td>\n",
       "      <td>492217</td>\n",
       "      <td>Is it okay to wear a black shirt with khaki pa...</td>\n",
       "      <td>What pant should I wear for a white shirt?</td>\n",
       "      <td>0</td>\n",
       "    </tr>\n",
       "    <tr>\n",
       "      <th>1</th>\n",
       "      <td>250001</td>\n",
       "      <td>250001</td>\n",
       "      <td>492218</td>\n",
       "      <td>492219</td>\n",
       "      <td>Which are the best smartphone security apps?</td>\n",
       "      <td>Which one is the best security software for sm...</td>\n",
       "      <td>1</td>\n",
       "    </tr>\n",
       "    <tr>\n",
       "      <th>2</th>\n",
       "      <td>250002</td>\n",
       "      <td>250002</td>\n",
       "      <td>492220</td>\n",
       "      <td>492221</td>\n",
       "      <td>How does a commodity market work?</td>\n",
       "      <td>How do commodity markets work?</td>\n",
       "      <td>0</td>\n",
       "    </tr>\n",
       "    <tr>\n",
       "      <th>3</th>\n",
       "      <td>250003</td>\n",
       "      <td>250003</td>\n",
       "      <td>492222</td>\n",
       "      <td>492223</td>\n",
       "      <td>Can judges go to pubs and other social events ...</td>\n",
       "      <td>What can we do to help India and Indo-American...</td>\n",
       "      <td>0</td>\n",
       "    </tr>\n",
       "    <tr>\n",
       "      <th>4</th>\n",
       "      <td>250004</td>\n",
       "      <td>250004</td>\n",
       "      <td>492224</td>\n",
       "      <td>492225</td>\n",
       "      <td>How can it people check my bank details?</td>\n",
       "      <td>How can I create my product if I don't have th...</td>\n",
       "      <td>0</td>\n",
       "    </tr>\n",
       "  </tbody>\n",
       "</table>\n",
       "</div>"
      ],
      "text/plain": [
       "   Unnamed: 0      id    qid1    qid2  \\\n",
       "0      250000  250000  492216  492217   \n",
       "1      250001  250001  492218  492219   \n",
       "2      250002  250002  492220  492221   \n",
       "3      250003  250003  492222  492223   \n",
       "4      250004  250004  492224  492225   \n",
       "\n",
       "                                           question1  \\\n",
       "0  Is it okay to wear a black shirt with khaki pa...   \n",
       "1       Which are the best smartphone security apps?   \n",
       "2                  How does a commodity market work?   \n",
       "3  Can judges go to pubs and other social events ...   \n",
       "4           How can it people check my bank details?   \n",
       "\n",
       "                                           question2  is_duplicate  \n",
       "0         What pant should I wear for a white shirt?             0  \n",
       "1  Which one is the best security software for sm...             1  \n",
       "2                     How do commodity markets work?             0  \n",
       "3  What can we do to help India and Indo-American...             0  \n",
       "4  How can I create my product if I don't have th...             0  "
      ]
     },
     "execution_count": 4,
     "metadata": {},
     "output_type": "execute_result"
    }
   ],
   "source": [
    "print(df_eval.shape)\n",
    "df_eval.head()"
   ]
  },
  {
   "cell_type": "code",
   "execution_count": 5,
   "metadata": {
    "ExecuteTime": {
     "end_time": "2020-06-08T20:00:53.753872Z",
     "start_time": "2020-06-08T20:00:53.659852Z"
    }
   },
   "outputs": [
    {
     "name": "stdout",
     "output_type": "stream",
     "text": [
      "question1    0\n",
      "question2    2\n",
      "dtype: int64\n",
      "question1    0\n",
      "question2    0\n",
      "dtype: int64\n"
     ]
    }
   ],
   "source": [
    "print(df_train[['question1','question2']].isnull().sum())\n",
    "print(df_eval[['question1','question2']].isnull().sum())\n",
    "\n",
    "df_train.drop( df_train[df_train[\"question2\"].isnull()].index , inplace=True )"
   ]
  },
  {
   "cell_type": "code",
   "execution_count": 6,
   "metadata": {
    "ExecuteTime": {
     "end_time": "2020-06-08T20:00:53.768876Z",
     "start_time": "2020-06-08T20:00:53.754873Z"
    }
   },
   "outputs": [],
   "source": [
    "def cleaining(rev, stopwords):\n",
    "    \n",
    "    # smileys chatcher AWESOME oder TERRIBLE\n",
    "    happy_smile = '(:\\)|:\\-\\)|:\\)\\)|:\\-\\)\\)|:D|:\\-\\D|;\\-\\)|:\\-D)+'\n",
    "    rev = re.sub(happy_smile, ' awesome ', rev)    \n",
    "    \n",
    "    terrible_smile = '(:\\(|:\\-\\(|:\\/|:\\-/)+'\n",
    "    rev = re.sub(terrible_smile, ' terrible ', rev)   \n",
    "    \n",
    "    # alles klein\n",
    "    rev = rev.lower()\n",
    "    \n",
    "    # entferne Zahlen\n",
    "    #rev = re.sub(r'\\d+', '', rev)\n",
    "\n",
    "    # Apostrophs fixes\n",
    "    rev = re.sub(r\" im \", \" i am \", rev)\n",
    "    rev = re.sub(r\" isnt \", \" is not \", rev)\n",
    "    rev = re.sub(r\" dont \", \" do not \", rev)\n",
    "    rev = re.sub(r\" didnt \", \" did not \", rev)\n",
    "    rev = re.sub(r\" alot \", \" a lot \", rev)\n",
    "    rev = re.sub(r\" won\\'t \", \" will not \", rev)\n",
    "    rev = re.sub(r\" can\\'t \", \" can not \", rev)\n",
    "    rev = re.sub(r\"n\\'t\", \" not \", rev)\n",
    "    rev = re.sub(r\"\\'t\", \" not \", rev)\n",
    "    rev = re.sub(r\" wouldnt \", \" would not \", rev)\n",
    "    rev = re.sub(r\" doesnt \", \" does not \", rev)\n",
    "    rev = re.sub(r\"\\'ve \", \" have \", rev)\n",
    "    rev = re.sub(r\"\\'m \", \" am \", rev)\n",
    "    rev = re.sub(r\"\\'re \", \" are \", rev)\n",
    "    rev = re.sub(r\"\\'s \", \" is \", rev)\n",
    "    rev = re.sub(r\"\\'d \", \" would \", rev)\n",
    "    rev = re.sub(r\"\\'ll \", \" will \", rev)  \n",
    "\n",
    "    rev = re.compile(r\"(.)\\1{2,}\").sub(r\"\\1\\1\", rev) # entfernt zu extra lange Buchtstaben-Folgen zB. finallllly => finally\n",
    "    \n",
    "    rev = re.sub('[^a-z0-9]+', \" \", rev)\n",
    "\n",
    "    rev_token = word_tokenize(rev)\n",
    "\n",
    "    if stopwords:\n",
    "        rev_token = [w for w in rev_token if  (w not in stopwords_E or w in whitelist) and len(w) > 1] \n",
    "\n",
    "    return rev_token"
   ]
  },
  {
   "cell_type": "code",
   "execution_count": 7,
   "metadata": {
    "ExecuteTime": {
     "end_time": "2020-06-08T20:00:53.783879Z",
     "start_time": "2020-06-08T20:00:53.769876Z"
    }
   },
   "outputs": [],
   "source": [
    "stopwords_E = set(stopwords.words('english'))\n",
    "whitelist = [\"not\", \"no\", \"very\", \"more\", \"most\", \"nor\"]"
   ]
  },
  {
   "cell_type": "code",
   "execution_count": 8,
   "metadata": {
    "ExecuteTime": {
     "end_time": "2020-06-08T20:00:53.799883Z",
     "start_time": "2020-06-08T20:00:53.785880Z"
    }
   },
   "outputs": [],
   "source": [
    "removeStopwords = False # True = entferne Englisch Stopwords"
   ]
  },
  {
   "cell_type": "code",
   "execution_count": 9,
   "metadata": {
    "ExecuteTime": {
     "end_time": "2020-06-08T20:02:03.679992Z",
     "start_time": "2020-06-08T20:00:53.801883Z"
    },
    "scrolled": false
   },
   "outputs": [
    {
     "name": "stdout",
     "output_type": "stream",
     "text": [
      "_____________________________________________\n",
      "Säubern der Train Texte\n",
      "_____________________________________________\n",
      "Cleaned token Wörter:\n"
     ]
    },
    {
     "data": {
      "text/html": [
       "<div>\n",
       "<style scoped>\n",
       "    .dataframe tbody tr th:only-of-type {\n",
       "        vertical-align: middle;\n",
       "    }\n",
       "\n",
       "    .dataframe tbody tr th {\n",
       "        vertical-align: top;\n",
       "    }\n",
       "\n",
       "    .dataframe thead th {\n",
       "        text-align: right;\n",
       "    }\n",
       "</style>\n",
       "<table border=\"1\" class=\"dataframe\">\n",
       "  <thead>\n",
       "    <tr style=\"text-align: right;\">\n",
       "      <th></th>\n",
       "      <th>Unnamed: 0</th>\n",
       "      <th>id</th>\n",
       "      <th>qid1</th>\n",
       "      <th>qid2</th>\n",
       "      <th>question1</th>\n",
       "      <th>question2</th>\n",
       "      <th>is_duplicate</th>\n",
       "      <th>clean_q1</th>\n",
       "      <th>clean_q2</th>\n",
       "    </tr>\n",
       "  </thead>\n",
       "  <tbody>\n",
       "    <tr>\n",
       "      <th>0</th>\n",
       "      <td>0</td>\n",
       "      <td>0</td>\n",
       "      <td>1</td>\n",
       "      <td>2</td>\n",
       "      <td>What is the step by step guide to invest in sh...</td>\n",
       "      <td>What is the step by step guide to invest in sh...</td>\n",
       "      <td>0</td>\n",
       "      <td>[what, is, the, step, by, step, guide, to, inv...</td>\n",
       "      <td>[what, is, the, step, by, step, guide, to, inv...</td>\n",
       "    </tr>\n",
       "    <tr>\n",
       "      <th>1</th>\n",
       "      <td>1</td>\n",
       "      <td>1</td>\n",
       "      <td>3</td>\n",
       "      <td>4</td>\n",
       "      <td>What is the story of Kohinoor (Koh-i-Noor) Dia...</td>\n",
       "      <td>What would happen if the Indian government sto...</td>\n",
       "      <td>0</td>\n",
       "      <td>[what, is, the, story, of, kohinoor, koh, i, n...</td>\n",
       "      <td>[what, would, happen, if, the, indian, governm...</td>\n",
       "    </tr>\n",
       "    <tr>\n",
       "      <th>2</th>\n",
       "      <td>2</td>\n",
       "      <td>2</td>\n",
       "      <td>5</td>\n",
       "      <td>6</td>\n",
       "      <td>How can I increase the speed of my internet co...</td>\n",
       "      <td>How can Internet speed be increased by hacking...</td>\n",
       "      <td>0</td>\n",
       "      <td>[how, can, i, increase, the, speed, of, my, in...</td>\n",
       "      <td>[how, can, internet, speed, be, increased, by,...</td>\n",
       "    </tr>\n",
       "    <tr>\n",
       "      <th>3</th>\n",
       "      <td>3</td>\n",
       "      <td>3</td>\n",
       "      <td>7</td>\n",
       "      <td>8</td>\n",
       "      <td>Why am I mentally very lonely? How can I solve...</td>\n",
       "      <td>Find the remainder when [math]23^{24}[/math] i...</td>\n",
       "      <td>0</td>\n",
       "      <td>[why, am, i, mentally, very, lonely, how, can,...</td>\n",
       "      <td>[find, the, remainder, when, math, 23, 24, mat...</td>\n",
       "    </tr>\n",
       "    <tr>\n",
       "      <th>4</th>\n",
       "      <td>4</td>\n",
       "      <td>4</td>\n",
       "      <td>9</td>\n",
       "      <td>10</td>\n",
       "      <td>Which one dissolve in water quikly sugar, salt...</td>\n",
       "      <td>Which fish would survive in salt water?</td>\n",
       "      <td>0</td>\n",
       "      <td>[which, one, dissolve, in, water, quikly, suga...</td>\n",
       "      <td>[which, fish, would, survive, in, salt, water]</td>\n",
       "    </tr>\n",
       "  </tbody>\n",
       "</table>\n",
       "</div>"
      ],
      "text/plain": [
       "   Unnamed: 0  id  qid1  qid2  \\\n",
       "0           0   0     1     2   \n",
       "1           1   1     3     4   \n",
       "2           2   2     5     6   \n",
       "3           3   3     7     8   \n",
       "4           4   4     9    10   \n",
       "\n",
       "                                           question1  \\\n",
       "0  What is the step by step guide to invest in sh...   \n",
       "1  What is the story of Kohinoor (Koh-i-Noor) Dia...   \n",
       "2  How can I increase the speed of my internet co...   \n",
       "3  Why am I mentally very lonely? How can I solve...   \n",
       "4  Which one dissolve in water quikly sugar, salt...   \n",
       "\n",
       "                                           question2  is_duplicate  \\\n",
       "0  What is the step by step guide to invest in sh...             0   \n",
       "1  What would happen if the Indian government sto...             0   \n",
       "2  How can Internet speed be increased by hacking...             0   \n",
       "3  Find the remainder when [math]23^{24}[/math] i...             0   \n",
       "4            Which fish would survive in salt water?             0   \n",
       "\n",
       "                                            clean_q1  \\\n",
       "0  [what, is, the, step, by, step, guide, to, inv...   \n",
       "1  [what, is, the, story, of, kohinoor, koh, i, n...   \n",
       "2  [how, can, i, increase, the, speed, of, my, in...   \n",
       "3  [why, am, i, mentally, very, lonely, how, can,...   \n",
       "4  [which, one, dissolve, in, water, quikly, suga...   \n",
       "\n",
       "                                            clean_q2  \n",
       "0  [what, is, the, step, by, step, guide, to, inv...  \n",
       "1  [what, would, happen, if, the, indian, governm...  \n",
       "2  [how, can, internet, speed, be, increased, by,...  \n",
       "3  [find, the, remainder, when, math, 23, 24, mat...  \n",
       "4     [which, fish, would, survive, in, salt, water]  "
      ]
     },
     "execution_count": 9,
     "metadata": {},
     "output_type": "execute_result"
    }
   ],
   "source": [
    "print(\"_____________________________________________\\nSäubern der Train Texte\")\n",
    "df_train[\"clean_q1\"] = df_train[\"question1\"].apply(lambda row : cleaining(row, removeStopwords)) \n",
    "df_train[\"clean_q2\"] = df_train[\"question2\"].apply(lambda row : cleaining(row, removeStopwords)) \n",
    "\n",
    "print(\"_____________________________________________\\nCleaned token Wörter:\")\n",
    "df_train.head()"
   ]
  },
  {
   "cell_type": "code",
   "execution_count": 10,
   "metadata": {
    "ExecuteTime": {
     "end_time": "2020-06-08T20:02:24.584151Z",
     "start_time": "2020-06-08T20:02:03.680992Z"
    },
    "scrolled": true
   },
   "outputs": [
    {
     "name": "stdout",
     "output_type": "stream",
     "text": [
      "_____________________________________________\n",
      "Säubern der Eval Texte\n",
      "_____________________________________________\n",
      "Cleaned token Wörter:\n"
     ]
    },
    {
     "data": {
      "text/html": [
       "<div>\n",
       "<style scoped>\n",
       "    .dataframe tbody tr th:only-of-type {\n",
       "        vertical-align: middle;\n",
       "    }\n",
       "\n",
       "    .dataframe tbody tr th {\n",
       "        vertical-align: top;\n",
       "    }\n",
       "\n",
       "    .dataframe thead th {\n",
       "        text-align: right;\n",
       "    }\n",
       "</style>\n",
       "<table border=\"1\" class=\"dataframe\">\n",
       "  <thead>\n",
       "    <tr style=\"text-align: right;\">\n",
       "      <th></th>\n",
       "      <th>Unnamed: 0</th>\n",
       "      <th>id</th>\n",
       "      <th>qid1</th>\n",
       "      <th>qid2</th>\n",
       "      <th>question1</th>\n",
       "      <th>question2</th>\n",
       "      <th>is_duplicate</th>\n",
       "      <th>clean_q1</th>\n",
       "      <th>clean_q2</th>\n",
       "    </tr>\n",
       "  </thead>\n",
       "  <tbody>\n",
       "    <tr>\n",
       "      <th>0</th>\n",
       "      <td>250000</td>\n",
       "      <td>250000</td>\n",
       "      <td>492216</td>\n",
       "      <td>492217</td>\n",
       "      <td>Is it okay to wear a black shirt with khaki pa...</td>\n",
       "      <td>What pant should I wear for a white shirt?</td>\n",
       "      <td>0</td>\n",
       "      <td>[is, it, okay, to, wear, a, black, shirt, with...</td>\n",
       "      <td>[what, pant, should, i, wear, for, a, white, s...</td>\n",
       "    </tr>\n",
       "    <tr>\n",
       "      <th>1</th>\n",
       "      <td>250001</td>\n",
       "      <td>250001</td>\n",
       "      <td>492218</td>\n",
       "      <td>492219</td>\n",
       "      <td>Which are the best smartphone security apps?</td>\n",
       "      <td>Which one is the best security software for sm...</td>\n",
       "      <td>1</td>\n",
       "      <td>[which, are, the, best, smartphone, security, ...</td>\n",
       "      <td>[which, one, is, the, best, security, software...</td>\n",
       "    </tr>\n",
       "    <tr>\n",
       "      <th>2</th>\n",
       "      <td>250002</td>\n",
       "      <td>250002</td>\n",
       "      <td>492220</td>\n",
       "      <td>492221</td>\n",
       "      <td>How does a commodity market work?</td>\n",
       "      <td>How do commodity markets work?</td>\n",
       "      <td>0</td>\n",
       "      <td>[how, does, a, commodity, market, work]</td>\n",
       "      <td>[how, do, commodity, markets, work]</td>\n",
       "    </tr>\n",
       "    <tr>\n",
       "      <th>3</th>\n",
       "      <td>250003</td>\n",
       "      <td>250003</td>\n",
       "      <td>492222</td>\n",
       "      <td>492223</td>\n",
       "      <td>Can judges go to pubs and other social events ...</td>\n",
       "      <td>What can we do to help India and Indo-American...</td>\n",
       "      <td>0</td>\n",
       "      <td>[can, judges, go, to, pubs, and, other, social...</td>\n",
       "      <td>[what, can, we, do, to, help, india, and, indo...</td>\n",
       "    </tr>\n",
       "    <tr>\n",
       "      <th>4</th>\n",
       "      <td>250004</td>\n",
       "      <td>250004</td>\n",
       "      <td>492224</td>\n",
       "      <td>492225</td>\n",
       "      <td>How can it people check my bank details?</td>\n",
       "      <td>How can I create my product if I don't have th...</td>\n",
       "      <td>0</td>\n",
       "      <td>[how, can, it, people, check, my, bank, details]</td>\n",
       "      <td>[how, can, i, create, my, product, if, i, do, ...</td>\n",
       "    </tr>\n",
       "  </tbody>\n",
       "</table>\n",
       "</div>"
      ],
      "text/plain": [
       "   Unnamed: 0      id    qid1    qid2  \\\n",
       "0      250000  250000  492216  492217   \n",
       "1      250001  250001  492218  492219   \n",
       "2      250002  250002  492220  492221   \n",
       "3      250003  250003  492222  492223   \n",
       "4      250004  250004  492224  492225   \n",
       "\n",
       "                                           question1  \\\n",
       "0  Is it okay to wear a black shirt with khaki pa...   \n",
       "1       Which are the best smartphone security apps?   \n",
       "2                  How does a commodity market work?   \n",
       "3  Can judges go to pubs and other social events ...   \n",
       "4           How can it people check my bank details?   \n",
       "\n",
       "                                           question2  is_duplicate  \\\n",
       "0         What pant should I wear for a white shirt?             0   \n",
       "1  Which one is the best security software for sm...             1   \n",
       "2                     How do commodity markets work?             0   \n",
       "3  What can we do to help India and Indo-American...             0   \n",
       "4  How can I create my product if I don't have th...             0   \n",
       "\n",
       "                                            clean_q1  \\\n",
       "0  [is, it, okay, to, wear, a, black, shirt, with...   \n",
       "1  [which, are, the, best, smartphone, security, ...   \n",
       "2            [how, does, a, commodity, market, work]   \n",
       "3  [can, judges, go, to, pubs, and, other, social...   \n",
       "4   [how, can, it, people, check, my, bank, details]   \n",
       "\n",
       "                                            clean_q2  \n",
       "0  [what, pant, should, i, wear, for, a, white, s...  \n",
       "1  [which, one, is, the, best, security, software...  \n",
       "2                [how, do, commodity, markets, work]  \n",
       "3  [what, can, we, do, to, help, india, and, indo...  \n",
       "4  [how, can, i, create, my, product, if, i, do, ...  "
      ]
     },
     "execution_count": 10,
     "metadata": {},
     "output_type": "execute_result"
    }
   ],
   "source": [
    "print(\"_____________________________________________\\nSäubern der Eval Texte\")\n",
    "df_eval[\"clean_q1\"] = df_eval[\"question1\"].apply(lambda row : cleaining(row, removeStopwords)) \n",
    "df_eval[\"clean_q2\"] = df_eval[\"question2\"].apply(lambda row : cleaining(row, removeStopwords)) \n",
    "\n",
    "print(\"_____________________________________________\\nCleaned token Wörter:\")\n",
    "df_eval.head()"
   ]
  },
  {
   "cell_type": "markdown",
   "metadata": {},
   "source": [
    "## Word Tokenizer"
   ]
  },
  {
   "cell_type": "code",
   "execution_count": 11,
   "metadata": {
    "ExecuteTime": {
     "end_time": "2020-06-08T20:02:35.891926Z",
     "start_time": "2020-06-08T20:02:24.585152Z"
    }
   },
   "outputs": [],
   "source": [
    "df_train[\"combined\"] = df_train[[\"clean_q1\", \"clean_q2\"]].apply(lambda x: x[0] + x[1], axis=1)"
   ]
  },
  {
   "cell_type": "code",
   "execution_count": 12,
   "metadata": {
    "ExecuteTime": {
     "end_time": "2020-06-08T20:02:42.308785Z",
     "start_time": "2020-06-08T20:02:35.892927Z"
    }
   },
   "outputs": [
    {
     "name": "stdout",
     "output_type": "stream",
     "text": [
      "Grösser des Vokabulars: 68831\n"
     ]
    }
   ],
   "source": [
    "from tensorflow.keras.preprocessing.text import Tokenizer\n",
    "from tensorflow.keras.preprocessing.sequence import pad_sequences\n",
    "\n",
    "tokenizer = Tokenizer(oov_token=\"<OOV>\")\n",
    "tokenizer.fit_on_texts(df_train[\"combined\"].values) \n",
    "\n",
    "VOCAB_SIZE = len(tokenizer.word_index) + 1\n",
    "print(f\"Grösser des Vokabulars: {VOCAB_SIZE}\")"
   ]
  },
  {
   "cell_type": "code",
   "execution_count": 13,
   "metadata": {
    "ExecuteTime": {
     "end_time": "2020-06-08T20:02:42.324790Z",
     "start_time": "2020-06-08T20:02:42.309786Z"
    }
   },
   "outputs": [],
   "source": [
    "def reviewTrainSizes(colum):\n",
    "    print(\"Beschreibung der Review-Grössen\\n\")\n",
    "    df_train[colum + \"_len\"] = df_train[colum].str.len()\n",
    "    all_len = df_train[colum + \"_len\"].tolist() #[l for l in df[\"len\"]]\n",
    "    plt.figure()\n",
    "    plt.title( colum + \"_len Text-Grössen Plot\")  \n",
    "    plt.xlabel(colum)\n",
    "    plt.ylabel(colum + \"_len\")\n",
    "    plt.plot(all_len)\n",
    "    plt.show()\n",
    "    print(pd.Series(all_len).describe())  "
   ]
  },
  {
   "cell_type": "code",
   "execution_count": 14,
   "metadata": {
    "ExecuteTime": {
     "end_time": "2020-06-08T20:02:42.991046Z",
     "start_time": "2020-06-08T20:02:42.325790Z"
    }
   },
   "outputs": [
    {
     "name": "stdout",
     "output_type": "stream",
     "text": [
      "Beschreibung der Review-Grössen\n",
      "\n"
     ]
    },
    {
     "data": {
      "image/png": "[encoded data removed]",
      "text/plain": [
       "<Figure size 432x288 with 1 Axes>"
      ]
     },
     "metadata": {
      "image/png": {
       "height": 277,
       "width": 393
      },
      "needs_background": "light"
     },
     "output_type": "display_data"
    },
    {
     "name": "stdout",
     "output_type": "stream",
     "text": [
      "count    249998.000000\n",
      "mean         11.118917\n",
      "std           5.564081\n",
      "min           0.000000\n",
      "25%           7.000000\n",
      "50%          10.000000\n",
      "75%          13.000000\n",
      "max         128.000000\n",
      "dtype: float64\n"
     ]
    }
   ],
   "source": [
    "reviewTrainSizes(\"clean_q1\")"
   ]
  },
  {
   "cell_type": "code",
   "execution_count": 15,
   "metadata": {
    "ExecuteTime": {
     "end_time": "2020-06-08T20:02:43.549172Z",
     "start_time": "2020-06-08T20:02:42.992047Z"
    }
   },
   "outputs": [
    {
     "name": "stdout",
     "output_type": "stream",
     "text": [
      "Beschreibung der Review-Grössen\n",
      "\n"
     ]
    },
    {
     "data": {
      "image/png": "[encoded data removed]",
      "text/plain": [
       "<Figure size 432x288 with 1 Axes>"
      ]
     },
     "metadata": {
      "image/png": {
       "height": 277,
       "width": 393
      },
      "needs_background": "light"
     },
     "output_type": "display_data"
    },
    {
     "name": "stdout",
     "output_type": "stream",
     "text": [
      "count    249998.000000\n",
      "mean         11.370863\n",
      "std           6.525784\n",
      "min           0.000000\n",
      "25%           7.000000\n",
      "50%          10.000000\n",
      "75%          13.000000\n",
      "max         249.000000\n",
      "dtype: float64\n"
     ]
    }
   ],
   "source": [
    "reviewTrainSizes(\"clean_q2\")"
   ]
  },
  {
   "cell_type": "code",
   "execution_count": 16,
   "metadata": {
    "ExecuteTime": {
     "end_time": "2020-06-08T20:02:43.565175Z",
     "start_time": "2020-06-08T20:02:43.550172Z"
    }
   },
   "outputs": [],
   "source": [
    "MAX_LENGTH = 20"
   ]
  },
  {
   "cell_type": "code",
   "execution_count": 17,
   "metadata": {
    "ExecuteTime": {
     "end_time": "2020-06-08T20:02:43.581178Z",
     "start_time": "2020-06-08T20:02:43.566175Z"
    }
   },
   "outputs": [],
   "source": [
    "def create_sequence(data):\n",
    "    encoded_set = tokenizer.texts_to_sequences(data)\n",
    "    encoded_set_padded = pad_sequences(\n",
    "        encoded_set, \n",
    "        maxlen=MAX_LENGTH, \n",
    "        padding=\"pre\",\n",
    "        truncating=\"pre\") \n",
    "    \n",
    "    sequences = [list(var) for var in encoded_set_padded]\n",
    "    return np.array([np.array(token) for token in sequences])"
   ]
  },
  {
   "cell_type": "code",
   "execution_count": 18,
   "metadata": {
    "ExecuteTime": {
     "end_time": "2020-06-08T20:02:54.780337Z",
     "start_time": "2020-06-08T20:02:43.582179Z"
    }
   },
   "outputs": [],
   "source": [
    "train_q1 = create_sequence(df_train[\"clean_q1\"])\n",
    "train_q2 = create_sequence(df_train[\"clean_q2\"])\n",
    "eval_q1  = create_sequence(df_eval[\"clean_q1\"])\n",
    "eval_q2  = create_sequence(df_eval[\"clean_q2\"])"
   ]
  },
  {
   "cell_type": "code",
   "execution_count": 19,
   "metadata": {
    "ExecuteTime": {
     "end_time": "2020-06-08T20:02:54.796340Z",
     "start_time": "2020-06-08T20:02:54.781337Z"
    }
   },
   "outputs": [],
   "source": [
    "def create_embedding_matrix(vocab_size, word2vec_path, token_word_index):\n",
    "\n",
    "    glove_input = word2vec_path #\"./glove.6B.300d.txt\"\n",
    "    word2vec_output = \"./glove.6B.300d.txt.word2vec\" \n",
    "    glove2word2vec(glove_input, word2vec_output)\n",
    "    \n",
    "    try:\n",
    "        embeddings_index = gensim.models.KeyedVectors.load_word2vec_format( word2vec_output, binary=False)\n",
    "    except:\n",
    "        print(\"Error! 'glove.6B.300d.txt' konnte nicht geladen/gefunden werden!\")\n",
    "    \n",
    "    embedding_matrix = np.zeros((vocab_size, 300))\n",
    "    missed = []\n",
    "    for word, i in token_word_index.items():\n",
    "        try:\n",
    "            embedding_vector = embeddings_index[word]\n",
    "            embedding_matrix[i] = embedding_vector\n",
    "        except KeyError:\n",
    "            missed.append(word)\n",
    "            \n",
    "    return [embedding_matrix, missed, embeddings_index]"
   ]
  },
  {
   "cell_type": "code",
   "execution_count": 20,
   "metadata": {
    "ExecuteTime": {
     "end_time": "2020-06-08T20:05:10.015048Z",
     "start_time": "2020-06-08T20:02:54.797341Z"
    }
   },
   "outputs": [],
   "source": [
    "[embedding_matrix, missed, word_model] = create_embedding_matrix(VOCAB_SIZE, path_to_word2vec, tokenizer.word_index)"
   ]
  },
  {
   "cell_type": "code",
   "execution_count": 21,
   "metadata": {
    "ExecuteTime": {
     "end_time": "2020-06-08T20:05:10.031051Z",
     "start_time": "2020-06-08T20:05:10.016048Z"
    }
   },
   "outputs": [
    {
     "data": {
      "text/plain": [
       "(68831, 300)"
      ]
     },
     "execution_count": 21,
     "metadata": {},
     "output_type": "execute_result"
    }
   ],
   "source": [
    "embedding_matrix.shape"
   ]
  },
  {
   "cell_type": "code",
   "execution_count": 22,
   "metadata": {
    "ExecuteTime": {
     "end_time": "2020-06-08T20:05:10.506158Z",
     "start_time": "2020-06-08T20:05:10.032052Z"
    }
   },
   "outputs": [
    {
     "data": {
      "text/plain": [
       "[('brooklyn', 0.707136869430542),\n",
       " ('midtown', 0.6984169483184814),\n",
       " ('york', 0.6746981143951416),\n",
       " ('bronx', 0.6093577146530151),\n",
       " ('queens', 0.5441600680351257),\n",
       " ('downtown', 0.5400195717811584),\n",
       " ('apartment', 0.5389279723167419),\n",
       " ('harlem', 0.5115177631378174),\n",
       " ('avenue', 0.504672646522522),\n",
       " ('neighborhood', 0.4913223087787628)]"
      ]
     },
     "execution_count": 22,
     "metadata": {},
     "output_type": "execute_result"
    }
   ],
   "source": [
    "word_model.most_similar(\"manhattan\")"
   ]
  },
  {
   "cell_type": "code",
   "execution_count": 23,
   "metadata": {
    "ExecuteTime": {
     "end_time": "2020-06-08T20:05:10.522162Z",
     "start_time": "2020-06-08T20:05:10.510159Z"
    },
    "scrolled": true
   },
   "outputs": [
    {
     "name": "stdout",
     "output_type": "stream",
     "text": [
      "Embedding-Dimensionen: 300\n"
     ]
    }
   ],
   "source": [
    "EMBEDDING_DIM = embedding_matrix.shape[1]\n",
    "print(f\"Embedding-Dimensionen: {EMBEDDING_DIM}\")"
   ]
  },
  {
   "cell_type": "code",
   "execution_count": 24,
   "metadata": {
    "ExecuteTime": {
     "end_time": "2020-06-08T20:05:10.537165Z",
     "start_time": "2020-06-08T20:05:10.524162Z"
    }
   },
   "outputs": [
    {
     "name": "stdout",
     "output_type": "stream",
     "text": [
      "Anzahl nicht gefundenen Wörter im Word2Vec: 16944\n"
     ]
    },
    {
     "data": {
      "text/plain": [
       "['<OOV>',\n",
       " 'kvpy',\n",
       " 'ibps',\n",
       " 'flipkart',\n",
       " 'redmi',\n",
       " 'sqrt',\n",
       " 'demonetisation',\n",
       " 'paytm',\n",
       " 'manaphy',\n",
       " 'brexit']"
      ]
     },
     "execution_count": 24,
     "metadata": {},
     "output_type": "execute_result"
    }
   ],
   "source": [
    "print(f\"Anzahl nicht gefundenen Wörter im Word2Vec: {len(missed)}\")\n",
    "missed[:10]"
   ]
  },
  {
   "cell_type": "code",
   "execution_count": 25,
   "metadata": {
    "ExecuteTime": {
     "end_time": "2020-06-08T20:05:10.553168Z",
     "start_time": "2020-06-08T20:05:10.538165Z"
    }
   },
   "outputs": [],
   "source": [
    "def cosine_distance(vectors):\n",
    "    x, y = vectors\n",
    "    x = K.l2_normalize(x, axis=-1)\n",
    "    y = K.l2_normalize(y, axis=-1)\n",
    "    return -K.mean(x * y, axis=-1, keepdims=True)\n",
    "\n",
    "def cos_dist_output_shape(shapes):\n",
    "    shape1, shape2 = shapes\n",
    "    return (shape1[0],1)\n",
    "\n",
    "def roc_au(y_true, y_pred):\n",
    "    return tf.py_function(roc_auc_score, (y_true, y_pred), tf.double)"
   ]
  },
  {
   "cell_type": "code",
   "execution_count": 26,
   "metadata": {
    "ExecuteTime": {
     "end_time": "2020-06-08T20:05:10.569172Z",
     "start_time": "2020-06-08T20:05:10.554168Z"
    }
   },
   "outputs": [
    {
     "data": {
      "text/plain": [
       "68831"
      ]
     },
     "execution_count": 26,
     "metadata": {},
     "output_type": "execute_result"
    }
   ],
   "source": [
    "VOCAB_SIZE"
   ]
  },
  {
   "cell_type": "code",
   "execution_count": 45,
   "metadata": {
    "ExecuteTime": {
     "end_time": "2020-06-08T21:26:37.220802Z",
     "start_time": "2020-06-08T21:26:36.604664Z"
    }
   },
   "outputs": [
    {
     "name": "stdout",
     "output_type": "stream",
     "text": [
      "Model: \"model_4\"\n",
      "__________________________________________________________________________________________________\n",
      "Layer (type)                    Output Shape         Param #     Connected to                     \n",
      "==================================================================================================\n",
      "input_7 (InputLayer)            (None, 20)           0                                            \n",
      "__________________________________________________________________________________________________\n",
      "input_8 (InputLayer)            (None, 20)           0                                            \n",
      "__________________________________________________________________________________________________\n",
      "embedding_4 (Embedding)         (None, 20, 300)      20649300    input_7[0][0]                    \n",
      "                                                                 input_8[0][0]                    \n",
      "__________________________________________________________________________________________________\n",
      "lstm_4 (LSTM)                   (None, 20, 64)       93440       embedding_4[0][0]                \n",
      "                                                                 embedding_4[1][0]                \n",
      "__________________________________________________________________________________________________\n",
      "flatten_7 (Flatten)             (None, 1280)         0           lstm_4[0][0]                     \n",
      "__________________________________________________________________________________________________\n",
      "flatten_8 (Flatten)             (None, 1280)         0           lstm_4[1][0]                     \n",
      "__________________________________________________________________________________________________\n",
      "multiply_10 (Multiply)          (None, 1280)         0           flatten_7[0][0]                  \n",
      "                                                                 flatten_7[0][0]                  \n",
      "__________________________________________________________________________________________________\n",
      "multiply_11 (Multiply)          (None, 1280)         0           flatten_8[0][0]                  \n",
      "                                                                 flatten_8[0][0]                  \n",
      "__________________________________________________________________________________________________\n",
      "subtract_8 (Subtract)           (None, 1280)         0           flatten_7[0][0]                  \n",
      "                                                                 flatten_8[0][0]                  \n",
      "__________________________________________________________________________________________________\n",
      "lambda_4 (Lambda)               (None, 1)            0           flatten_7[0][0]                  \n",
      "                                                                 flatten_8[0][0]                  \n",
      "__________________________________________________________________________________________________\n",
      "subtract_7 (Subtract)           (None, 1280)         0           multiply_10[0][0]                \n",
      "                                                                 multiply_11[0][0]                \n",
      "__________________________________________________________________________________________________\n",
      "multiply_12 (Multiply)          (None, 1280)         0           subtract_8[0][0]                 \n",
      "                                                                 subtract_8[0][0]                 \n",
      "__________________________________________________________________________________________________\n",
      "concatenate_4 (Concatenate)     (None, 2561)         0           lambda_4[0][0]                   \n",
      "                                                                 subtract_7[0][0]                 \n",
      "                                                                 multiply_12[0][0]                \n",
      "__________________________________________________________________________________________________\n",
      "dense_7 (Dense)                 (None, 92)           235704      concatenate_4[0][0]              \n",
      "__________________________________________________________________________________________________\n",
      "dropout_4 (Dropout)             (None, 92)           0           dense_7[0][0]                    \n",
      "__________________________________________________________________________________________________\n",
      "dense_8 (Dense)                 (None, 1)            93          dropout_4[0][0]                  \n",
      "==================================================================================================\n",
      "Total params: 20,978,537\n",
      "Trainable params: 329,237\n",
      "Non-trainable params: 20,649,300\n",
      "__________________________________________________________________________________________________\n"
     ]
    }
   ],
   "source": [
    "import tensorflow as tf\n",
    "\n",
    "from keras import backend as K\n",
    "\n",
    "from sklearn import metrics\n",
    "from sklearn.metrics import roc_auc_score\n",
    "\n",
    "from keras.models import Model\n",
    "from keras.regularizers import l2\n",
    "\n",
    "from keras.layers.merge import Concatenate\n",
    "from keras.layers.core import Lambda, Flatten, Dense\n",
    "from keras.layers import Input, Embedding, LSTM, Dense, Flatten, Concatenate, Multiply, Dropout, Subtract, Add\n",
    "    \n",
    "from keras.optimizers import Adam\n",
    "\n",
    "embedding_layer = Embedding(VOCAB_SIZE, EMBEDDING_DIM, weights=[embedding_matrix], input_length=MAX_LENGTH, trainable=False) \n",
    "lstm_layer      = LSTM(64, activation=\"relu\", dropout=0.1, recurrent_dropout=0.1, return_sequences=True)\n",
    "\n",
    "# Question 1\n",
    "q1_input = Input(shape=(MAX_LENGTH, ), dtype=\"int32\")\n",
    "q1       = embedding_layer(q1_input)\n",
    "q1       = lstm_layer(q1)\n",
    "q1       = Flatten()(q1)\n",
    "\n",
    "# Question 2\n",
    "q2_input = Input(shape=(MAX_LENGTH, ), dtype=\"int32\")\n",
    "q2       = embedding_layer(q2_input)\n",
    "q2       = lstm_layer(q2)\n",
    "q2       = Flatten()(q2)\n",
    "\n",
    "x1 = Lambda(cosine_distance, output_shape=cos_dist_output_shape)([q1, q2])\n",
    "\n",
    "q1_multi = Multiply()([q1, q1])\n",
    "q2_multi = Multiply()([q2, q2])\n",
    "x2 = Subtract()([q1_multi, q2_multi])\n",
    "    \n",
    "x3 = Subtract()([q1, q2])\n",
    "x3 = Multiply()([x3, x3])\n",
    "\n",
    "\n",
    "conc = Concatenate(axis=-1)([x1,x2, x3])\n",
    "x   = Dense(92, activation=\"relu\")(conc)\n",
    "x   = Dropout(0.2)(x)\n",
    "out = Dense(1, activation=\"sigmoid\")(x)\n",
    "\n",
    "model = Model([q1_input, q2_input], out)\n",
    "\n",
    "model.compile(optimizer=Adam(learning_rate=1e-3), loss=\"binary_crossentropy\", metrics=['acc'] )\n",
    "\n",
    "model.summary()"
   ]
  },
  {
   "cell_type": "code",
   "execution_count": 46,
   "metadata": {
    "ExecuteTime": {
     "end_time": "2020-06-08T21:26:37.864115Z",
     "start_time": "2020-06-08T21:26:37.857114Z"
    }
   },
   "outputs": [],
   "source": [
    "y_train = df_train[\"is_duplicate\"].values.reshape(-1,1)\n",
    "y_eval  = df_eval[\"is_duplicate\"].values.reshape(-1,1)"
   ]
  },
  {
   "cell_type": "code",
   "execution_count": 47,
   "metadata": {
    "ExecuteTime": {
     "end_time": "2020-06-08T21:44:35.623988Z",
     "start_time": "2020-06-08T21:26:40.159575Z"
    },
    "scrolled": false
   },
   "outputs": [
    {
     "name": "stdout",
     "output_type": "stream",
     "text": [
      "Train on 249998 samples, validate on 75000 samples\n",
      "Epoch 1/20\n",
      "249998/249998 [==============================] - 97s 390us/step - loss: 0.4941 - acc: 0.7562 - val_loss: 0.4686 - val_acc: 0.7756\n",
      "Epoch 2/20\n",
      "249998/249998 [==============================] - 97s 388us/step - loss: 0.4276 - acc: 0.7978 - val_loss: 0.4292 - val_acc: 0.7987\n",
      "Epoch 3/20\n",
      "249998/249998 [==============================] - 97s 387us/step - loss: 0.3992 - acc: 0.8133 - val_loss: 0.4296 - val_acc: 0.7982\n",
      "Epoch 4/20\n",
      "249998/249998 [==============================] - 97s 388us/step - loss: 0.3798 - acc: 0.8251 - val_loss: 0.4184 - val_acc: 0.8046\n",
      "Epoch 5/20\n",
      "249998/249998 [==============================] - 99s 396us/step - loss: 0.3655 - acc: 0.8322 - val_loss: 0.4141 - val_acc: 0.8090\n",
      "Epoch 6/20\n",
      "249998/249998 [==============================] - 98s 392us/step - loss: 0.3535 - acc: 0.8393 - val_loss: 0.4101 - val_acc: 0.8129\n",
      "Epoch 7/20\n",
      "249998/249998 [==============================] - 98s 390us/step - loss: 0.3417 - acc: 0.8461 - val_loss: 0.4095 - val_acc: 0.8139\n",
      "Epoch 8/20\n",
      "249998/249998 [==============================] - 98s 392us/step - loss: 0.3322 - acc: 0.8514 - val_loss: 0.4190 - val_acc: 0.8119\n",
      "Epoch 9/20\n",
      "249998/249998 [==============================] - 97s 388us/step - loss: 0.3240 - acc: 0.8550 - val_loss: 0.4317 - val_acc: 0.8083\n",
      "Epoch 10/20\n",
      "249998/249998 [==============================] - 97s 390us/step - loss: 0.3164 - acc: 0.8590 - val_loss: 0.4261 - val_acc: 0.8089\n",
      "Epoch 11/20\n",
      "249998/249998 [==============================] - 97s 387us/step - loss: 0.3095 - acc: 0.8631 - val_loss: 0.4219 - val_acc: 0.8118\n"
     ]
    }
   ],
   "source": [
    "from keras.callbacks import EarlyStopping\n",
    "\n",
    "x_train = [train_q1,train_q2]\n",
    "x_eval  = [eval_q1, eval_q2]\n",
    "\n",
    "callback = EarlyStopping(monitor='val_loss', patience=4) \n",
    "\n",
    "trained_model = model.fit(\n",
    "                x_train,\n",
    "                y_train,\n",
    "                epochs = 20,\n",
    "                batch_size=64,\n",
    "                validation_data=(x_eval,y_eval),\n",
    "                callbacks=[callback]\n",
    "                )"
   ]
  },
  {
   "cell_type": "code",
   "execution_count": 50,
   "metadata": {
    "ExecuteTime": {
     "end_time": "2020-06-08T21:46:05.137710Z",
     "start_time": "2020-06-08T21:46:04.823633Z"
    },
    "scrolled": true
   },
   "outputs": [
    {
     "data": {
      "text/plain": [
       "<matplotlib.legend.Legend at 0x1fcc23d3f48>"
      ]
     },
     "execution_count": 50,
     "metadata": {},
     "output_type": "execute_result"
    },
    {
     "data": {
      "image/png": "[encoded data removed]",
      "text/plain": [
       "<Figure size 1080x288 with 2 Axes>"
      ]
     },
     "metadata": {
      "image/png": {
       "height": 277,
       "width": 605
      },
      "needs_background": "light"
     },
     "output_type": "display_data"
    }
   ],
   "source": [
    "plt.figure(figsize=(15,4))\n",
    "plt.subplot(1,3,1) \n",
    "plt.title(\"model loss\")\n",
    "plt.plot(trained_model.history[\"loss\"])\n",
    "plt.plot(trained_model.history[\"val_loss\"])\n",
    "plt.xlabel(\"Epochs\")\n",
    "plt.ylabel(\"loss\")\n",
    "plt.legend([\"loss\", \"val_loss\"])\n",
    "\n",
    "plt.subplot(1,3,2) \n",
    "plt.title(\"model accuracy\")\n",
    "plt.plot(trained_model.history[\"acc\"])\n",
    "plt.plot(trained_model.history[\"val_acc\"])\n",
    "plt.xlabel(\"Epochs\")\n",
    "plt.ylabel(\"accuracy\")\n",
    "plt.legend([\"accuracy\", \"val_accuracy\"])"
   ]
  },
  {
   "cell_type": "code",
   "execution_count": 51,
   "metadata": {
    "ExecuteTime": {
     "end_time": "2020-06-08T21:46:23.010978Z",
     "start_time": "2020-06-08T21:46:10.961285Z"
    }
   },
   "outputs": [
    {
     "name": "stdout",
     "output_type": "stream",
     "text": [
      "75000/75000 [==============================] - 12s 161us/step\n",
      "[0.4219273351542155, 0.8117600083351135]\n"
     ]
    }
   ],
   "source": [
    "evalus = model.evaluate(x_eval, y_eval, verbose = 1)\n",
    "print(evalus)"
   ]
  },
  {
   "cell_type": "code",
   "execution_count": 52,
   "metadata": {
    "ExecuteTime": {
     "end_time": "2020-06-08T21:46:35.039832Z",
     "start_time": "2020-06-08T21:46:23.124004Z"
    }
   },
   "outputs": [
    {
     "name": "stdout",
     "output_type": "stream",
     "text": [
      "75000/75000 [==============================] - 12s 156us/step\n"
     ]
    }
   ],
   "source": [
    "y_eval_predict = model.predict(x_eval, verbose=1)"
   ]
  },
  {
   "cell_type": "code",
   "execution_count": 53,
   "metadata": {
    "ExecuteTime": {
     "end_time": "2020-06-08T21:46:35.166867Z",
     "start_time": "2020-06-08T21:46:35.153864Z"
    }
   },
   "outputs": [],
   "source": [
    "predict = y_eval_predict.reshape(1,-1)[0] > 0.5\n",
    "y_true  = y_eval.reshape(1,-1)[0]"
   ]
  },
  {
   "cell_type": "code",
   "execution_count": 54,
   "metadata": {
    "ExecuteTime": {
     "end_time": "2020-06-08T21:46:35.355910Z",
     "start_time": "2020-06-08T21:46:35.261889Z"
    }
   },
   "outputs": [
    {
     "name": "stdout",
     "output_type": "stream",
     "text": [
      "              precision    recall  f1-score   support\n",
      "\n",
      "           0       0.90      0.79      0.84     47237\n",
      "           1       0.70      0.85      0.77     27763\n",
      "\n",
      "    accuracy                           0.81     75000\n",
      "   macro avg       0.80      0.82      0.81     75000\n",
      "weighted avg       0.83      0.81      0.81     75000\n",
      "\n"
     ]
    }
   ],
   "source": [
    "metric = metrics.classification_report(y_true, predict)\n",
    "print(metric)"
   ]
  },
  {
   "cell_type": "code",
   "execution_count": 55,
   "metadata": {
    "ExecuteTime": {
     "end_time": "2020-06-08T21:46:35.467935Z",
     "start_time": "2020-06-08T21:46:35.452932Z"
    }
   },
   "outputs": [],
   "source": [
    "df_eval[\"predict\"] = y_eval_predict"
   ]
  },
  {
   "cell_type": "code",
   "execution_count": 56,
   "metadata": {
    "ExecuteTime": {
     "end_time": "2020-06-08T21:46:35.675981Z",
     "start_time": "2020-06-08T21:46:35.596965Z"
    }
   },
   "outputs": [
    {
     "data": {
      "text/html": [
       "<div>\n",
       "<style scoped>\n",
       "    .dataframe tbody tr th:only-of-type {\n",
       "        vertical-align: middle;\n",
       "    }\n",
       "\n",
       "    .dataframe tbody tr th {\n",
       "        vertical-align: top;\n",
       "    }\n",
       "\n",
       "    .dataframe thead th {\n",
       "        text-align: right;\n",
       "    }\n",
       "</style>\n",
       "<table border=\"1\" class=\"dataframe\">\n",
       "  <thead>\n",
       "    <tr style=\"text-align: right;\">\n",
       "      <th></th>\n",
       "      <th>Unnamed: 0</th>\n",
       "      <th>id</th>\n",
       "      <th>qid1</th>\n",
       "      <th>qid2</th>\n",
       "      <th>question1</th>\n",
       "      <th>question2</th>\n",
       "      <th>is_duplicate</th>\n",
       "      <th>clean_q1</th>\n",
       "      <th>clean_q2</th>\n",
       "      <th>predict</th>\n",
       "    </tr>\n",
       "  </thead>\n",
       "  <tbody>\n",
       "    <tr>\n",
       "      <th>2</th>\n",
       "      <td>250002</td>\n",
       "      <td>250002</td>\n",
       "      <td>492220</td>\n",
       "      <td>492221</td>\n",
       "      <td>How does a commodity market work?</td>\n",
       "      <td>How do commodity markets work?</td>\n",
       "      <td>0</td>\n",
       "      <td>[how, does, a, commodity, market, work]</td>\n",
       "      <td>[how, do, commodity, markets, work]</td>\n",
       "      <td>0.867002</td>\n",
       "    </tr>\n",
       "    <tr>\n",
       "      <th>6</th>\n",
       "      <td>250006</td>\n",
       "      <td>250006</td>\n",
       "      <td>492228</td>\n",
       "      <td>492229</td>\n",
       "      <td>What courses should an instrumentation enginee...</td>\n",
       "      <td>What is the best job for an instrumentation en...</td>\n",
       "      <td>0</td>\n",
       "      <td>[what, courses, should, an, instrumentation, e...</td>\n",
       "      <td>[what, is, the, best, job, for, an, instrument...</td>\n",
       "      <td>0.667705</td>\n",
       "    </tr>\n",
       "    <tr>\n",
       "      <th>14</th>\n",
       "      <td>250014</td>\n",
       "      <td>250014</td>\n",
       "      <td>492242</td>\n",
       "      <td>492243</td>\n",
       "      <td>I have trouble concentrating. I get distracted...</td>\n",
       "      <td>I get distracted very easily how can I improve...</td>\n",
       "      <td>1</td>\n",
       "      <td>[i, have, trouble, concentrating, i, get, dist...</td>\n",
       "      <td>[i, get, distracted, very, easily, how, can, i...</td>\n",
       "      <td>0.489555</td>\n",
       "    </tr>\n",
       "    <tr>\n",
       "      <th>15</th>\n",
       "      <td>250015</td>\n",
       "      <td>250015</td>\n",
       "      <td>492244</td>\n",
       "      <td>492245</td>\n",
       "      <td>Where did Cain get his wife?</td>\n",
       "      <td>According to Genesis when God created Adam and...</td>\n",
       "      <td>1</td>\n",
       "      <td>[where, did, cain, get, his, wife]</td>\n",
       "      <td>[according, to, genesis, when, god, created, a...</td>\n",
       "      <td>0.028506</td>\n",
       "    </tr>\n",
       "    <tr>\n",
       "      <th>18</th>\n",
       "      <td>250018</td>\n",
       "      <td>250018</td>\n",
       "      <td>492250</td>\n",
       "      <td>492251</td>\n",
       "      <td>What kind of music do you like and why?</td>\n",
       "      <td>What kind of music do you love?</td>\n",
       "      <td>1</td>\n",
       "      <td>[what, kind, of, music, do, you, like, and, why]</td>\n",
       "      <td>[what, kind, of, music, do, you, love]</td>\n",
       "      <td>0.126966</td>\n",
       "    </tr>\n",
       "    <tr>\n",
       "      <th>...</th>\n",
       "      <td>...</td>\n",
       "      <td>...</td>\n",
       "      <td>...</td>\n",
       "      <td>...</td>\n",
       "      <td>...</td>\n",
       "      <td>...</td>\n",
       "      <td>...</td>\n",
       "      <td>...</td>\n",
       "      <td>...</td>\n",
       "      <td>...</td>\n",
       "    </tr>\n",
       "    <tr>\n",
       "      <th>74984</th>\n",
       "      <td>324984</td>\n",
       "      <td>324984</td>\n",
       "      <td>637466</td>\n",
       "      <td>637467</td>\n",
       "      <td>What is the clearest and most concise way to d...</td>\n",
       "      <td>What is the clearest and most concise way to d...</td>\n",
       "      <td>0</td>\n",
       "      <td>[what, is, the, clearest, and, most, concise, ...</td>\n",
       "      <td>[what, is, the, clearest, and, most, concise, ...</td>\n",
       "      <td>0.820355</td>\n",
       "    </tr>\n",
       "    <tr>\n",
       "      <th>74987</th>\n",
       "      <td>324987</td>\n",
       "      <td>324987</td>\n",
       "      <td>637472</td>\n",
       "      <td>637473</td>\n",
       "      <td>Should I breakup with my girlfriend if we have...</td>\n",
       "      <td>Should I breakup with my girlfriend only becau...</td>\n",
       "      <td>0</td>\n",
       "      <td>[should, i, breakup, with, my, girlfriend, if,...</td>\n",
       "      <td>[should, i, breakup, with, my, girlfriend, onl...</td>\n",
       "      <td>0.932317</td>\n",
       "    </tr>\n",
       "    <tr>\n",
       "      <th>74988</th>\n",
       "      <td>324988</td>\n",
       "      <td>324988</td>\n",
       "      <td>637474</td>\n",
       "      <td>637475</td>\n",
       "      <td>Is NASA's moon landing a hoax?</td>\n",
       "      <td>Is the moon landing fake because the astronaut...</td>\n",
       "      <td>1</td>\n",
       "      <td>[is, nasa, is, moon, landing, a, hoax]</td>\n",
       "      <td>[is, the, moon, landing, fake, because, the, a...</td>\n",
       "      <td>0.357773</td>\n",
       "    </tr>\n",
       "    <tr>\n",
       "      <th>74997</th>\n",
       "      <td>324997</td>\n",
       "      <td>324997</td>\n",
       "      <td>637491</td>\n",
       "      <td>637492</td>\n",
       "      <td>What do hedgehogs look like?</td>\n",
       "      <td>What do hedgehogs like?</td>\n",
       "      <td>0</td>\n",
       "      <td>[what, do, hedgehogs, look, like]</td>\n",
       "      <td>[what, do, hedgehogs, like]</td>\n",
       "      <td>0.769938</td>\n",
       "    </tr>\n",
       "    <tr>\n",
       "      <th>74999</th>\n",
       "      <td>324999</td>\n",
       "      <td>324999</td>\n",
       "      <td>637495</td>\n",
       "      <td>637496</td>\n",
       "      <td>Are you attracted to freckles?</td>\n",
       "      <td>Do you find people with freckles attractive?</td>\n",
       "      <td>0</td>\n",
       "      <td>[are, you, attracted, to, freckles]</td>\n",
       "      <td>[do, you, find, people, with, freckles, attrac...</td>\n",
       "      <td>0.654491</td>\n",
       "    </tr>\n",
       "  </tbody>\n",
       "</table>\n",
       "<p>14118 rows × 10 columns</p>\n",
       "</div>"
      ],
      "text/plain": [
       "       Unnamed: 0      id    qid1    qid2  \\\n",
       "2          250002  250002  492220  492221   \n",
       "6          250006  250006  492228  492229   \n",
       "14         250014  250014  492242  492243   \n",
       "15         250015  250015  492244  492245   \n",
       "18         250018  250018  492250  492251   \n",
       "...           ...     ...     ...     ...   \n",
       "74984      324984  324984  637466  637467   \n",
       "74987      324987  324987  637472  637473   \n",
       "74988      324988  324988  637474  637475   \n",
       "74997      324997  324997  637491  637492   \n",
       "74999      324999  324999  637495  637496   \n",
       "\n",
       "                                               question1  \\\n",
       "2                      How does a commodity market work?   \n",
       "6      What courses should an instrumentation enginee...   \n",
       "14     I have trouble concentrating. I get distracted...   \n",
       "15                          Where did Cain get his wife?   \n",
       "18               What kind of music do you like and why?   \n",
       "...                                                  ...   \n",
       "74984  What is the clearest and most concise way to d...   \n",
       "74987  Should I breakup with my girlfriend if we have...   \n",
       "74988                     Is NASA's moon landing a hoax?   \n",
       "74997                       What do hedgehogs look like?   \n",
       "74999                     Are you attracted to freckles?   \n",
       "\n",
       "                                               question2  is_duplicate  \\\n",
       "2                         How do commodity markets work?             0   \n",
       "6      What is the best job for an instrumentation en...             0   \n",
       "14     I get distracted very easily how can I improve...             1   \n",
       "15     According to Genesis when God created Adam and...             1   \n",
       "18                       What kind of music do you love?             1   \n",
       "...                                                  ...           ...   \n",
       "74984  What is the clearest and most concise way to d...             0   \n",
       "74987  Should I breakup with my girlfriend only becau...             0   \n",
       "74988  Is the moon landing fake because the astronaut...             1   \n",
       "74997                            What do hedgehogs like?             0   \n",
       "74999       Do you find people with freckles attractive?             0   \n",
       "\n",
       "                                                clean_q1  \\\n",
       "2                [how, does, a, commodity, market, work]   \n",
       "6      [what, courses, should, an, instrumentation, e...   \n",
       "14     [i, have, trouble, concentrating, i, get, dist...   \n",
       "15                    [where, did, cain, get, his, wife]   \n",
       "18      [what, kind, of, music, do, you, like, and, why]   \n",
       "...                                                  ...   \n",
       "74984  [what, is, the, clearest, and, most, concise, ...   \n",
       "74987  [should, i, breakup, with, my, girlfriend, if,...   \n",
       "74988             [is, nasa, is, moon, landing, a, hoax]   \n",
       "74997                  [what, do, hedgehogs, look, like]   \n",
       "74999                [are, you, attracted, to, freckles]   \n",
       "\n",
       "                                                clean_q2   predict  \n",
       "2                    [how, do, commodity, markets, work]  0.867002  \n",
       "6      [what, is, the, best, job, for, an, instrument...  0.667705  \n",
       "14     [i, get, distracted, very, easily, how, can, i...  0.489555  \n",
       "15     [according, to, genesis, when, god, created, a...  0.028506  \n",
       "18                [what, kind, of, music, do, you, love]  0.126966  \n",
       "...                                                  ...       ...  \n",
       "74984  [what, is, the, clearest, and, most, concise, ...  0.820355  \n",
       "74987  [should, i, breakup, with, my, girlfriend, onl...  0.932317  \n",
       "74988  [is, the, moon, landing, fake, because, the, a...  0.357773  \n",
       "74997                        [what, do, hedgehogs, like]  0.769938  \n",
       "74999  [do, you, find, people, with, freckles, attrac...  0.654491  \n",
       "\n",
       "[14118 rows x 10 columns]"
      ]
     },
     "execution_count": 56,
     "metadata": {},
     "output_type": "execute_result"
    }
   ],
   "source": [
    "df_eval[df_eval[\"is_duplicate\"] != predict]"
   ]
  },
  {
   "cell_type": "code",
   "execution_count": 59,
   "metadata": {
    "ExecuteTime": {
     "end_time": "2020-06-08T21:46:56.067711Z",
     "start_time": "2020-06-08T21:46:56.060709Z"
    }
   },
   "outputs": [],
   "source": [
    "fpr, tpr, thresholds = metrics.roc_curve(y_true, predict)\n"
   ]
  },
  {
   "cell_type": "code",
   "execution_count": 60,
   "metadata": {
    "ExecuteTime": {
     "end_time": "2020-06-08T21:46:56.743196Z",
     "start_time": "2020-06-08T21:46:56.579159Z"
    }
   },
   "outputs": [
    {
     "data": {
      "image/png": "[encoded data removed]",
      "text/plain": [
       "<Figure size 432x288 with 1 Axes>"
      ]
     },
     "metadata": {
      "image/png": {
       "height": 277,
       "width": 385
      },
      "needs_background": "light"
     },
     "output_type": "display_data"
    }
   ],
   "source": [
    "plt.plot(fpr, tpr, color=\"orange\", label=\"ROC\")\n",
    "plt.plot([0, 1], [0, 1], color=\"darkblue\", linestyle='--')\n",
    "plt.xlabel(\"False Positive Rate\")\n",
    "plt.ylabel(\"True Positive Rate\")\n",
    "plt.title(\"Receiver Operating Characteristic (ROC) Curve\")\n",
    "plt.legend()\n",
    "plt.show()"
   ]
  }
 ],
 "metadata": {
  "kernelspec": {
   "display_name": "Python 3",
   "language": "python",
   "name": "python3"
  },
  "language_info": {
   "codemirror_mode": {
    "name": "ipython",
    "version": 3
   },
   "file_extension": ".py",
   "mimetype": "text/x-python",
   "name": "python",
   "nbconvert_exporter": "python",
   "pygments_lexer": "ipython3",
   "version": "3.7.7"
  },
  "varInspector": {
   "cols": {
    "lenName": 16,
    "lenType": 16,
    "lenVar": 40
   },
   "kernels_config": {
    "python": {
     "delete_cmd_postfix": "",
     "delete_cmd_prefix": "del ",
     "library": "var_list.py",
     "varRefreshCmd": "print(var_dic_list())"
    },
    "r": {
     "delete_cmd_postfix": ") ",
     "delete_cmd_prefix": "rm(",
     "library": "var_list.r",
     "varRefreshCmd": "cat(var_dic_list()) "
    }
   },
   "position": {
    "height": "568.993px",
    "left": "1649.99px",
    "right": "20px",
    "top": "84.9931px",
    "width": "505px"
   },
   "types_to_exclude": [
    "module",
    "function",
    "builtin_function_or_method",
    "instance",
    "_Feature"
   ],
   "window_display": true
  }
 },
 "nbformat": 4,
 "nbformat_minor": 4
}
